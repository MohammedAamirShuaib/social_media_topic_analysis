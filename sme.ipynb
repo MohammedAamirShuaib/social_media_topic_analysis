{
 "cells": [
  {
   "cell_type": "code",
   "execution_count": 1,
   "metadata": {},
   "outputs": [
    {
     "name": "stderr",
     "output_type": "stream",
     "text": [
      "d:\\OSG-AA-Products\\Social_media_analysis\\sme\\lib\\site-packages\\past\\builtins\\misc.py:45: DeprecationWarning: the imp module is deprecated in favour of importlib; see the module's documentation for alternative uses\n",
      "  from imp import reload\n",
      "[nltk_data] Downloading package brown to\n",
      "[nltk_data]     C:\\Users\\mohammedshuaib\\AppData\\Roaming\\nltk_data...\n",
      "[nltk_data]   Package brown is already up-to-date!\n",
      "[nltk_data] Downloading package punkt to\n",
      "[nltk_data]     C:\\Users\\mohammedshuaib\\AppData\\Roaming\\nltk_data...\n",
      "[nltk_data]   Package punkt is already up-to-date!\n",
      "[nltk_data] Downloading package vader_lexicon to\n",
      "[nltk_data]     C:\\Users\\mohammedshuaib\\AppData\\Roaming\\nltk_data...\n",
      "[nltk_data]   Package vader_lexicon is already up-to-date!\n"
     ]
    },
    {
     "name": "stdout",
     "output_type": "stream",
     "text": [
      "Extracting the list of URLs..\n",
      "List of URLs for diabetes retrieved.\n",
      "Extracting data from URLs..\n",
      "Next URL to webscrape is -  https://www.who.int/news-room/fact-sheets/detail/diabetes\n",
      "Extracted data from URL -  1 - https://www.who.int/news-room/fact-sheets/detail/diabetes\n",
      "Next URL to webscrape is -  https://www.mayoclinic.org/diseases-conditions/diabetes/symptoms-causes/syc-20371444\n",
      "Extracted data from URL -  2 - https://www.mayoclinic.org/diseases-conditions/diabetes/symptoms-causes/syc-20371444\n",
      "Next URL to webscrape is -  https://www.cdc.gov/diabetes/basics/diabetes.html\n",
      "Extracted data from URL -  3 - https://www.cdc.gov/diabetes/basics/diabetes.html\n",
      "Next URL to webscrape is -  https://www.niddk.nih.gov/health-information/diabetes/overview/what-is-diabetes\n",
      "Extracted data from URL -  4 - https://www.niddk.nih.gov/health-information/diabetes/overview/what-is-diabetes\n",
      "Next URL to webscrape is -  https://my.clevelandclinic.org/health/diseases/7104-diabetes-mellitus-an-overview\n",
      "Extracted data from URL -  5 - https://my.clevelandclinic.org/health/diseases/7104-diabetes-mellitus-an-overview\n",
      "Next URL to webscrape is -  https://www.healthline.com/health/diabetes\n",
      "Extracted data from URL -  6 - https://www.healthline.com/health/diabetes\n",
      "Next URL to webscrape is -  https://en.wikipedia.org/wiki/Diabetes\n",
      "Extracted data from URL -  7 - https://en.wikipedia.org/wiki/Diabetes\n",
      "Next URL to webscrape is -  https://diabetes.org/diabetes\n",
      "Extracted data from URL -  8 - https://diabetes.org/diabetes\n",
      "Next URL to webscrape is -  https://www.webmd.com/diabetes/default.htm\n",
      "Extracted data from URL -  9 - https://www.webmd.com/diabetes/default.htm\n",
      "Next URL to webscrape is -  https://www.medicalnewstoday.com/articles/323627\n",
      "Extracted data from URL -  10 - https://www.medicalnewstoday.com/articles/323627\n",
      "Next URL to webscrape is -  https://www.idf.org/aboutdiabetes/what-is-diabetes.html\n",
      "Extracted data from URL -  11 - https://www.idf.org/aboutdiabetes/what-is-diabetes.html\n",
      "Next URL to webscrape is -  https://medlineplus.gov/ency/article/001214.htm\n",
      "Extracted data from URL -  12 - https://medlineplus.gov/ency/article/001214.htm\n",
      "Uploaded File and got temporary URL to file\n",
      "Made request and file is currently queued\n",
      "starting to transcribe the file: [ Topics/diabetes/videos/Type 2 Diabetes Counselling  - OSCE Guide  Communication Skills.mp4 ]\n",
      "Processing the file: [ Topics/diabetes/videos/Type 2 Diabetes Counselling  - OSCE Guide  Communication Skills.mp4 ]\n",
      "Uploaded File and got temporary URL to file\n",
      "Made request and file is currently queued\n",
      "starting to transcribe the file: [ Topics/diabetes/videos/Type 2 Diabetes Management Case Study Maria.mp4 ]\n",
      "Processing the file: [ Topics/diabetes/videos/Type 2 Diabetes Management Case Study Maria.mp4 ]\n"
     ]
    },
    {
     "data": {
      "text/plain": [
       "True"
      ]
     },
     "execution_count": 1,
     "metadata": {},
     "output_type": "execute_result"
    }
   ],
   "source": [
    "query = \"diabetes\"\n",
    "links=[\"https://www.youtube.com/watch?v=wHAKLSSc6P8&t=130s\",\"https://www.youtube.com/watch?v=Y3mweldvh0o\"]\n",
    "count = 100\n",
    "\n",
    "\n",
    "from extractor.google_CAQ import *\n",
    "from extractor.google_websearch import *\n",
    "from extractor.reddit import *\n",
    "from extractor.youtube import *\n",
    "from extractor.twitter import *\n",
    "\n",
    "short_query = query.replace(\" \",\"\")\n",
    "os.makedirs(\"Topics\", exist_ok = True)\n",
    "os.makedirs(\"Topics/\"+short_query, exist_ok = True)\n",
    "os.makedirs(\"Topics/\"+short_query+\"/Data\", exist_ok = True)\n",
    "os.makedirs(\"Topics/\"+short_query+\"/videos\", exist_ok = True)\n",
    "\n",
    "get_google_webscrape(query, region=\"\", no_of_urls=25, recency=\"\", typ=\"all\", word_search_list=[], common_word_list=[])\n",
    "get_reddit(short_query,count)\n",
    "get_tweets(query,count)\n",
    "get_CAQ(query)\n",
    "get_youtube(short_query,links)"
   ]
  },
  {
   "cell_type": "code",
   "execution_count": null,
   "metadata": {},
   "outputs": [],
   "source": []
  }
 ],
 "metadata": {
  "kernelspec": {
   "display_name": "Python 3.7.9 ('sme': venv)",
   "language": "python",
   "name": "python3"
  },
  "language_info": {
   "codemirror_mode": {
    "name": "ipython",
    "version": 3
   },
   "file_extension": ".py",
   "mimetype": "text/x-python",
   "name": "python",
   "nbconvert_exporter": "python",
   "pygments_lexer": "ipython3",
   "version": "3.7.9"
  },
  "orig_nbformat": 4,
  "vscode": {
   "interpreter": {
    "hash": "b5148d600e301706adb55e8a33826a215021bd1a513ada25568c62e0f9cef555"
   }
  }
 },
 "nbformat": 4,
 "nbformat_minor": 2
}
