{
 "cells": [
  {
   "cell_type": "code",
   "execution_count": 1,
   "metadata": {},
   "outputs": [
    {
     "name": "stderr",
     "output_type": "stream",
     "text": [
      "d:\\OSG-AA-Products\\Social_media_analysis\\sme\\lib\\site-packages\\tqdm\\auto.py:22: TqdmWarning: IProgress not found. Please update jupyter and ipywidgets. See https://ipywidgets.readthedocs.io/en/stable/user_install.html\n",
      "  from .autonotebook import tqdm as notebook_tqdm\n",
      "d:\\OSG-AA-Products\\Social_media_analysis\\sme\\lib\\site-packages\\past\\builtins\\misc.py:45: DeprecationWarning: the imp module is deprecated in favour of importlib; see the module's documentation for alternative uses\n",
      "  from imp import reload\n",
      "[nltk_data] Error loading brown: <urlopen error [WinError 10060] A\n",
      "[nltk_data]     connection attempt failed because the connected party\n",
      "[nltk_data]     did not properly respond after a period of time, or\n",
      "[nltk_data]     established connection failed because connected host\n",
      "[nltk_data]     has failed to respond>\n",
      "[nltk_data] Error loading punkt: <urlopen error [WinError 10060] A\n",
      "[nltk_data]     connection attempt failed because the connected party\n",
      "[nltk_data]     did not properly respond after a period of time, or\n",
      "[nltk_data]     established connection failed because connected host\n",
      "[nltk_data]     has failed to respond>\n",
      "[nltk_data] Error loading vader_lexicon: <urlopen error [WinError\n",
      "[nltk_data]     10060] A connection attempt failed because the\n",
      "[nltk_data]     connected party did not properly respond after a\n",
      "[nltk_data]     period of time, or established connection failed\n",
      "[nltk_data]     because connected host has failed to respond>\n"
     ]
    },
    {
     "name": "stdout",
     "output_type": "stream",
     "text": [
      "Transcribing file: [ Topics/diabetes/videos/Type 2 Diabetes Counselling  - OSCE Guide  Communication Skills.mp4 ]\n",
      "Extracting Emotions\n",
      "Data Extraction Complete: [ Topics/diabetes/videos/Type 2 Diabetes Counselling  - OSCE Guide  Communication Skills.mp4 ]\n",
      "Transcribing file: [ Topics/diabetes/videos/Type 2 Diabetes Management Case Study Maria.mp4 ]\n",
      "Extracting Emotions\n",
      "Data Extraction Complete: [ Topics/diabetes/videos/Type 2 Diabetes Management Case Study Maria.mp4 ]\n"
     ]
    }
   ],
   "source": [
    "# Required Parameters\n",
    "query = \"diabetes\"\n",
    "links=[\"https://www.youtube.com/watch?v=wHAKLSSc6P8&t=130s\",\"https://www.youtube.com/watch?v=Y3mweldvh0o\"]\n",
    "\n",
    "# Optional parameters\n",
    "count = 100 # by default count =100 if not mentioned\n",
    "Emotion_model = \"BERT_PT\" # Choose between \"BERT_PT\" and \"HuggingFace\" default model = \"BERT_PT\"\n",
    "download = False  # Choose False if videos are not downloaded default = True\n",
    "get_emotions=True  # Coose True if emotions need to extracted default = False\n",
    "\n",
    "from extractor.google_CAQ import *\n",
    "from extractor.google_websearch import *\n",
    "from extractor.reddit import *\n",
    "from extractor.youtube import *\n",
    "from extractor.twitter import *\n",
    "\n",
    "short_query = query.replace(\" \",\"\")\n",
    "os.makedirs(\"Topics\", exist_ok = True)\n",
    "os.makedirs(\"Topics/\"+short_query, exist_ok = True)\n",
    "os.makedirs(\"Topics/\"+short_query+\"/Data\", exist_ok = True)\n",
    "os.makedirs(\"Topics/\"+short_query+\"/videos\", exist_ok = True)\n",
    "\n",
    "# get_google_webscrape(query, region=\"\", no_of_urls=25, recency=\"\", typ=\"all\", word_search_list=[], common_word_list=[])\n",
    "# get_reddit(short_query,count)\n",
    "# get_tweets(query,count)\n",
    "# get_CAQ(query)\n",
    "get_youtube(short_query,links,download,get_emotions,Emotion_model)"
   ]
  },
  {
   "cell_type": "code",
   "execution_count": null,
   "metadata": {},
   "outputs": [],
   "source": []
  }
 ],
 "metadata": {
  "kernelspec": {
   "display_name": "Python 3.7.9 ('sme': venv)",
   "language": "python",
   "name": "python3"
  },
  "language_info": {
   "codemirror_mode": {
    "name": "ipython",
    "version": 3
   },
   "file_extension": ".py",
   "mimetype": "text/x-python",
   "name": "python",
   "nbconvert_exporter": "python",
   "pygments_lexer": "ipython3",
   "version": "3.7.9"
  },
  "orig_nbformat": 4,
  "vscode": {
   "interpreter": {
    "hash": "b5148d600e301706adb55e8a33826a215021bd1a513ada25568c62e0f9cef555"
   }
  }
 },
 "nbformat": 4,
 "nbformat_minor": 2
}
