{
 "cells": [
  {
   "cell_type": "code",
   "execution_count": 2,
   "metadata": {},
   "outputs": [
    {
     "name": "stderr",
     "output_type": "stream",
     "text": [
      "d:\\OSG-AA-Products\\Social_media_analysis\\sme\\lib\\site-packages\\tqdm\\auto.py:22: TqdmWarning: IProgress not found. Please update jupyter and ipywidgets. See https://ipywidgets.readthedocs.io/en/stable/user_install.html\n",
      "  from .autonotebook import tqdm as notebook_tqdm\n",
      "d:\\OSG-AA-Products\\Social_media_analysis\\sme\\lib\\site-packages\\transformers\\configuration_utils.py:370: UserWarning: Passing `gradient_checkpointing` to a config initialization is deprecated and will be removed in v5 Transformers. Using `model.gradient_checkpointing_enable()` instead, or if you are using the `Trainer` API, pass `gradient_checkpointing=True` in your `TrainingArguments`.\n",
      "  \"Passing `gradient_checkpointing` to a config initialization is deprecated and will be removed in v5 \"\n"
     ]
    }
   ],
   "source": [
    "import pandas as pd\n",
    "from extractor.ser_functions import *\n",
    "from extractor.ser_functions import Get_Emotions"
   ]
  },
  {
   "cell_type": "code",
   "execution_count": 3,
   "metadata": {},
   "outputs": [],
   "source": [
    "df = pd.read_excel(\"Topics/diabetes/Data/diabetes.xlsx\",sheet_name=\"YouTube_video_2\")"
   ]
  },
  {
   "cell_type": "code",
   "execution_count": null,
   "metadata": {},
   "outputs": [],
   "source": [
    "df['model'] = \"HuggingFace\"\n",
    "df['Emotion']=df.apply(lambda x: Get_Emotions(x['file_name'],x['start_time'],x['end_time'],x['utter'],x['model']), axis=1)"
   ]
  },
  {
   "cell_type": "code",
   "execution_count": 6,
   "metadata": {},
   "outputs": [],
   "source": [
    "df['model'] = \"BERT_PT\"\n",
    "df['Emotion']=df.apply(lambda x: Get_Emotions(x['file_name'],x['start_time'],x['end_time'],x['utter'],x['model']), axis=1)"
   ]
  },
  {
   "cell_type": "code",
   "execution_count": 9,
   "metadata": {},
   "outputs": [
    {
     "data": {
      "text/plain": [
       "{'ang': 0.0, 'hap': 0.0, 'sad': 0.0, 'neu': 0.1, 'exc': 99.9}"
      ]
     },
     "execution_count": 9,
     "metadata": {},
     "output_type": "execute_result"
    }
   ],
   "source": [
    "df['Emotion'][0]"
   ]
  },
  {
   "cell_type": "code",
   "execution_count": 11,
   "metadata": {},
   "outputs": [
    {
     "data": {
      "text/plain": [
       "\"Our first case study highlights Maria, who is a 45 year old Hispanic female who has had type two diabetes for 15 years and is treated with Mitformin 1000 milligrams Bid and Glyphoside 20 mg Bid. She has gained £10 and is having difficulty losing it. The patient reports not remembering when she had her last foot exam, which is recommended to be done annually. Her last eye exam was six months ago, so she's up to date on the recommended annual eye exam. She is taking lisinopril ten milligrams for her blood pressure management, and atorvastatin 40 milligrams for her cholesterol management. Her A one C ranged from seven five to 9% in the past two to three years. She reports a weight gain of £10. Frustrated with the inability to lose weight despite diet and exercise, she does not smoke. Let's watch as Dr. Basina meets with Maria.\""
      ]
     },
     "execution_count": 11,
     "metadata": {},
     "output_type": "execute_result"
    }
   ],
   "source": [
    "df['utter'][0]"
   ]
  },
  {
   "cell_type": "code",
   "execution_count": null,
   "metadata": {},
   "outputs": [],
   "source": [
    "df['Emotion']=df.apply(lambda x : SER(x['file_name'],x['start_time'],x['end_time']),axis=1)\n",
    "df['angry'] = df['emo'].apply(lambda x: emotion_results(x,\"ang\"))\n",
    "df['happy'] = df['emo'].apply(lambda x: emotion_results(x,\"hap\"))\n",
    "df['sad'] = df['emo'].apply(lambda x: emotion_results(x,\"sad\"))\n",
    "df['neutral'] = df['emo'].apply(lambda x: emotion_results(x,\"neu\"))"
   ]
  },
  {
   "cell_type": "code",
   "execution_count": null,
   "metadata": {},
   "outputs": [],
   "source": [
    "def get_emotion_radar(df):\n",
    "    new_df=df[(df['angry']>0)|(df['happy']>0)|(df['sad']>0)|(df['neutral']>0)]\n",
    "    unique_speakers=new_df['speaker'].unique().tolist()\n",
    "    avg_spk_emo=[]\n",
    "    for i in new_df['speaker'].unique():\n",
    "        avg_emo=[\n",
    "                np.mean(new_df[new_df['speaker']==i]['angry']),\n",
    "                np.mean(new_df[new_df['speaker']==i]['happy']),\n",
    "                np.mean(new_df[new_df['speaker']==i]['sad']),\n",
    "                np.mean(new_df[new_df['speaker']==i]['neutral'])\n",
    "                ]\n",
    "        avg_spk_emo.append(avg_emo)\n",
    "    emotions_dict = dict(zip(unique_speakers, avg_spk_emo))\n",
    "    emotions_dict['categories']=['angry','happy','sad','neutral']\n",
    "    emo_df=pd.DataFrame(emotions_dict)\n",
    "    labels=emo_df['categories'].to_list()\n",
    "    angles=np.linspace(0, 2*np.pi, len(labels), endpoint=False)\n",
    "    angles=np.concatenate((angles,[angles[0]]))\n",
    "    labels.append(labels[0])\n",
    "    fig=plt.figure(figsize=(6,6))\n",
    "    ax=fig.add_subplot(111, polar=True)\n",
    "    val=[]\n",
    "    col=['g','b','r','y','c','m']\n",
    "    for i,c in zip(emo_df.columns,range(len(emo_df.columns)-1)):\n",
    "        if i!='categories':\n",
    "            val=emo_df[i].to_list()\n",
    "            val.append(emo_df[i].to_list()[0])\n",
    "            ax.plot(angles,val, 'o-', linewidth=1, label=i)\n",
    "            ax.fill(angles, val, alpha=0.25, color=col[c])\n",
    "    ax.set_thetagrids(angles * 180/np.pi, labels)\n",
    "    plt.grid(True)\n",
    "    plt.tight_layout()\n",
    "    plt.legend()\n",
    "    plt.show()"
   ]
  },
  {
   "cell_type": "code",
   "execution_count": null,
   "metadata": {},
   "outputs": [],
   "source": []
  },
  {
   "cell_type": "code",
   "execution_count": null,
   "metadata": {},
   "outputs": [],
   "source": []
  },
  {
   "cell_type": "code",
   "execution_count": null,
   "metadata": {},
   "outputs": [],
   "source": []
  },
  {
   "cell_type": "code",
   "execution_count": null,
   "metadata": {},
   "outputs": [],
   "source": []
  },
  {
   "cell_type": "code",
   "execution_count": null,
   "metadata": {},
   "outputs": [],
   "source": []
  },
  {
   "cell_type": "code",
   "execution_count": null,
   "metadata": {},
   "outputs": [],
   "source": []
  },
  {
   "cell_type": "code",
   "execution_count": null,
   "metadata": {},
   "outputs": [],
   "source": []
  },
  {
   "cell_type": "code",
   "execution_count": null,
   "metadata": {},
   "outputs": [],
   "source": [
    "# data\n",
    "categories = ['angry','happy','sad','neutral']\n",
    "A=[np.mean(df2[df2['speaker']=='A']['angry']),np.mean(df2[df2['speaker']=='A']['happy']),np.mean(df2[df2['speaker']=='A']['sad']),np.mean(df2[df2['speaker']=='A']['neutral'])]"
   ]
  },
  {
   "cell_type": "code",
   "execution_count": null,
   "metadata": {},
   "outputs": [],
   "source": [
    "l=[]\n",
    "seri_head=df2['speaker'].unique().tolist()\n",
    "for i in df2['speaker'].unique():\n",
    "    seri=[np.mean(df2[df2['speaker']==i]['angry']),np.mean(df2[df2['speaker']==i]['happy']),np.mean(df2[df2['speaker']==i]['sad']),np.mean(df2[df2['speaker']==i]['neutral'])]\n",
    "    l.append(seri)\n",
    "students_dict = dict(zip(seri_head, l))\n",
    "students_dict['categories']=['angry','happy','sad','neutral']\n",
    "emo_df=pd.DataFrame(students_dict)\n",
    "emo_df"
   ]
  },
  {
   "cell_type": "code",
   "execution_count": null,
   "metadata": {},
   "outputs": [],
   "source": [
    "labels=emo_df['categories'].to_list()\n",
    "angles=np.linspace(0, 2*np.pi, len(labels), endpoint=False)\n",
    "angles=np.concatenate((angles,[angles[0]]))\n",
    "labels.append(labels[0])"
   ]
  },
  {
   "cell_type": "code",
   "execution_count": null,
   "metadata": {},
   "outputs": [],
   "source": [
    "fig=plt.figure(figsize=(6,6))\n",
    "ax=fig.add_subplot(111, polar=True)\n",
    "val=[]\n",
    "col=['g','b','r','y','p','o']\n",
    "for i,c in zip(emo_df.columns,range(len(emo_df.columns)-1)):\n",
    "    if i!='categories':\n",
    "        val=emo_df[i].to_list()\n",
    "        val.append(emo_df[i].to_list()[0])\n",
    "        ax.plot(angles,val, 'o-', linewidth=1, label=i)\n",
    "        ax.fill(angles, val, alpha=0.25, color=col[c])\n",
    "ax.set_thetagrids(angles * 180/np.pi, labels)\n",
    "plt.title('HF_Model')\n",
    "plt.grid(True)\n",
    "plt.tight_layout()\n",
    "plt.legend()\n",
    "plt.show()"
   ]
  },
  {
   "cell_type": "code",
   "execution_count": null,
   "metadata": {},
   "outputs": [],
   "source": [
    "list(emo_df.columns)"
   ]
  },
  {
   "cell_type": "code",
   "execution_count": null,
   "metadata": {},
   "outputs": [],
   "source": [
    "for i,c in zip(emo_df.columns,range(len(emo_df.columns)-1)):\n",
    "    #for c in range(len(emo_df.columns)-1):\n",
    "      print(i,col[c])"
   ]
  },
  {
   "cell_type": "code",
   "execution_count": null,
   "metadata": {},
   "outputs": [],
   "source": [
    "for i in range(len(emo_df.columns)-1):\n",
    "    print(col[i])"
   ]
  },
  {
   "cell_type": "code",
   "execution_count": null,
   "metadata": {},
   "outputs": [],
   "source": [
    "range(len(emo_df.columns))"
   ]
  },
  {
   "cell_type": "code",
   "execution_count": null,
   "metadata": {},
   "outputs": [],
   "source": [
    "val=emo_df['A'].to_list()\n"
   ]
  }
 ],
 "metadata": {
  "kernelspec": {
   "display_name": "Python 3.7.9 ('sme': venv)",
   "language": "python",
   "name": "python3"
  },
  "language_info": {
   "codemirror_mode": {
    "name": "ipython",
    "version": 3
   },
   "file_extension": ".py",
   "mimetype": "text/x-python",
   "name": "python",
   "nbconvert_exporter": "python",
   "pygments_lexer": "ipython3",
   "version": "3.7.9"
  },
  "orig_nbformat": 4,
  "vscode": {
   "interpreter": {
    "hash": "b5148d600e301706adb55e8a33826a215021bd1a513ada25568c62e0f9cef555"
   }
  }
 },
 "nbformat": 4,
 "nbformat_minor": 2
}
